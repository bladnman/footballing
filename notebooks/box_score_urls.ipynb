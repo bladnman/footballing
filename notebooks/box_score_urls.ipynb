{
 "cells": [
  {
   "cell_type": "code",
   "execution_count": 20,
   "source": [
    "# CONFIG\n",
    "DATA_PATH = '../data/box_scores'\n",
    "_is_dev_mode = False\n"
   ],
   "outputs": [],
   "metadata": {}
  },
  {
   "cell_type": "code",
   "execution_count": 21,
   "source": [
    "import numpy as np\n",
    "import pandas as pd"
   ],
   "outputs": [],
   "metadata": {}
  },
  {
   "cell_type": "code",
   "execution_count": 22,
   "source": [
    "TEAM_DICT = {\n",
    "    'Arizona Cardinals': 'crd',\n",
    "    # 'Arizona Cardinals': 'ari',\n",
    "    'Atlanta Falcons': 'atl',\n",
    "    'Baltimore Ravens': 'rav',\n",
    "    # 'Baltimore Ravens': 'bal',\n",
    "    'Buffalo Bills': 'buf',\n",
    "    'Carolina Panthers': 'car',\n",
    "    'Chicago Bears': 'chi',\n",
    "    'Cincinnati Bengals': 'cin',\n",
    "    'Cleveland Browns': 'cle',\n",
    "    'Dallas Cowboys': 'dal',\n",
    "    'Denver Broncos': 'den',\n",
    "    'Detroit Lions': 'det',\n",
    "    'Green Bay Packers': 'gnb',\n",
    "    'Houston Texans': 'htx',\n",
    "    # 'Houston Texans': 'hou',\n",
    "    'Indianapolis Colts': 'clt',\n",
    "    # 'Indianapolis Colts': 'ind',\n",
    "    'Jacksonville Jaguars': 'jax',\n",
    "    'Kansas City Chiefs': 'kan',\n",
    "    'Las Vegas Raiders': 'rai',\n",
    "    'Los Angeles Chargers': 'lac',\n",
    "    'Los Angeles Rams': 'ram',\n",
    "    # 'Los Angeles Rams': 'lar',\n",
    "    'Miami Dolphins': 'mia',\n",
    "    'Minnesota Vikings': 'min',\n",
    "    'New England Patriots': 'nwe',\n",
    "    'New Orleans Saints': 'nor',\n",
    "    'New York Giants': 'nyg',\n",
    "    'New York Jets': 'nyj',\n",
    "    'Oakland Raiders': 'rai',\n",
    "    # 'Oakland Raiders': 'oak',\n",
    "    'Philadelphia Eagles': 'phi',\n",
    "    'Pittsburgh Steelers': 'pit',\n",
    "    'San Diego Chargers': 'sdg',\n",
    "    'San Francisco 49ers': 'sfo',\n",
    "    'Seattle Seahawks': 'sea',\n",
    "    'St. Louis Rams': 'ram',\n",
    "    'St. Louis Cardinals': 'crd',\n",
    "    'Tampa Bay Buccaneers': 'tam',\n",
    "    'Tennessee Titans': 'oti',\n",
    "    # 'Tennessee Titans': 'ten',\n",
    "    'Washington Football Team': 'was',\n",
    "    'Washington Redskins': 'was'\n",
    "}\n"
   ],
   "outputs": [],
   "metadata": {}
  },
  {
   "cell_type": "code",
   "execution_count": 23,
   "source": [
    "def get_box_score_url(game_ser):\n",
    "    dt = game_ser['date'].replace('-', '')\n",
    "    home_team = game_ser['team'] if game_ser['home'] == 1 else game_ser['opponent']\n",
    "    tm = TEAM_DICT[home_team]\n",
    "    return f\"https://www.pro-football-reference.com/boxscores/{dt}0{tm}.htm\"\n"
   ],
   "outputs": [],
   "metadata": {}
  },
  {
   "cell_type": "code",
   "execution_count": 24,
   "source": [
    "file_path = '../data/games/all_games.csv'\n",
    "if _is_dev_mode == True:\n",
    "    file_path = '../data/games/games_2019.csv'\n",
    "df = pd.read_csv(file_path)\n",
    "win_df = df[df['win'] == 1]\n",
    "urls = []\n",
    "for i in range(len(win_df.index)):\n",
    "    urls.append(get_box_score_url(win_df.iloc[i]))\n",
    "\n",
    "if _is_dev_mode == True:\n",
    "    urls\n"
   ],
   "outputs": [],
   "metadata": {}
  },
  {
   "cell_type": "code",
   "execution_count": 25,
   "source": [
    "url_df = pd.DataFrame(urls)\n",
    "url_df.columns = ['url']\n",
    "url_df"
   ],
   "outputs": [
    {
     "output_type": "execute_result",
     "data": {
      "text/html": [
       "<div>\n",
       "<style scoped>\n",
       "    .dataframe tbody tr th:only-of-type {\n",
       "        vertical-align: middle;\n",
       "    }\n",
       "\n",
       "    .dataframe tbody tr th {\n",
       "        vertical-align: top;\n",
       "    }\n",
       "\n",
       "    .dataframe thead th {\n",
       "        text-align: right;\n",
       "    }\n",
       "</style>\n",
       "<table border=\"1\" class=\"dataframe\">\n",
       "  <thead>\n",
       "    <tr style=\"text-align: right;\">\n",
       "      <th></th>\n",
       "      <th>url</th>\n",
       "    </tr>\n",
       "  </thead>\n",
       "  <tbody>\n",
       "    <tr>\n",
       "      <th>0</th>\n",
       "      <td>https://www.pro-football-reference.com/boxscor...</td>\n",
       "    </tr>\n",
       "    <tr>\n",
       "      <th>1</th>\n",
       "      <td>https://www.pro-football-reference.com/boxscor...</td>\n",
       "    </tr>\n",
       "    <tr>\n",
       "      <th>2</th>\n",
       "      <td>https://www.pro-football-reference.com/boxscor...</td>\n",
       "    </tr>\n",
       "    <tr>\n",
       "      <th>3</th>\n",
       "      <td>https://www.pro-football-reference.com/boxscor...</td>\n",
       "    </tr>\n",
       "    <tr>\n",
       "      <th>4</th>\n",
       "      <td>https://www.pro-football-reference.com/boxscor...</td>\n",
       "    </tr>\n",
       "    <tr>\n",
       "      <th>...</th>\n",
       "      <td>...</td>\n",
       "    </tr>\n",
       "    <tr>\n",
       "      <th>2648</th>\n",
       "      <td>https://www.pro-football-reference.com/boxscor...</td>\n",
       "    </tr>\n",
       "    <tr>\n",
       "      <th>2649</th>\n",
       "      <td>https://www.pro-football-reference.com/boxscor...</td>\n",
       "    </tr>\n",
       "    <tr>\n",
       "      <th>2650</th>\n",
       "      <td>https://www.pro-football-reference.com/boxscor...</td>\n",
       "    </tr>\n",
       "    <tr>\n",
       "      <th>2651</th>\n",
       "      <td>https://www.pro-football-reference.com/boxscor...</td>\n",
       "    </tr>\n",
       "    <tr>\n",
       "      <th>2652</th>\n",
       "      <td>https://www.pro-football-reference.com/boxscor...</td>\n",
       "    </tr>\n",
       "  </tbody>\n",
       "</table>\n",
       "<p>2653 rows × 1 columns</p>\n",
       "</div>"
      ],
      "text/plain": [
       "                                                    url\n",
       "0     https://www.pro-football-reference.com/boxscor...\n",
       "1     https://www.pro-football-reference.com/boxscor...\n",
       "2     https://www.pro-football-reference.com/boxscor...\n",
       "3     https://www.pro-football-reference.com/boxscor...\n",
       "4     https://www.pro-football-reference.com/boxscor...\n",
       "...                                                 ...\n",
       "2648  https://www.pro-football-reference.com/boxscor...\n",
       "2649  https://www.pro-football-reference.com/boxscor...\n",
       "2650  https://www.pro-football-reference.com/boxscor...\n",
       "2651  https://www.pro-football-reference.com/boxscor...\n",
       "2652  https://www.pro-football-reference.com/boxscor...\n",
       "\n",
       "[2653 rows x 1 columns]"
      ]
     },
     "metadata": {},
     "execution_count": 25
    }
   ],
   "metadata": {}
  },
  {
   "cell_type": "code",
   "execution_count": 26,
   "source": [
    "url_df.to_csv(f'{DATA_PATH}/box_score_urls.csv', index=False)"
   ],
   "outputs": [],
   "metadata": {}
  },
  {
   "cell_type": "code",
   "execution_count": null,
   "source": [],
   "outputs": [],
   "metadata": {}
  }
 ],
 "metadata": {
  "orig_nbformat": 4,
  "language_info": {
   "name": "python",
   "version": "3.8.8",
   "mimetype": "text/x-python",
   "codemirror_mode": {
    "name": "ipython",
    "version": 3
   },
   "pygments_lexer": "ipython3",
   "nbconvert_exporter": "python",
   "file_extension": ".py"
  },
  "kernelspec": {
   "name": "python3",
   "display_name": "Python 3.8.8 64-bit ('base': conda)"
  },
  "interpreter": {
   "hash": "35d4093377125a965be9a5833f25b3dc0e8233d057ec383416b82901922cf930"
  }
 },
 "nbformat": 4,
 "nbformat_minor": 2
}