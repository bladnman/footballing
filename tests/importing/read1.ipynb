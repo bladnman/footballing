{
 "cells": [
  {
   "cell_type": "markdown",
   "source": [
    "# Footballing\n",
    "\n",
    "We will attempt to strip historical win/loss data from a website for future ML projects.\n",
    "\n",
    "[The historical website](https://www.pro-football-reference.com)\n",
    "\n",
    "[Work spreadsheet for designs](https://docs.google.com/spreadsheets/d/1MkQ_J3gGDs_vkkERELOZojhwS9Wt-1eX4vFL7VP9TQE/edit#gid=0)"
   ],
   "metadata": {}
  },
  {
   "cell_type": "code",
   "execution_count": 2,
   "source": [
    "import numpy as np\n",
    "import pandas as pd\n"
   ],
   "outputs": [],
   "metadata": {}
  },
  {
   "cell_type": "code",
   "execution_count": 82,
   "source": [
    "def get_tables_for(year, week):\n",
    "    return pd.read_html(\n",
    "        f'https://www.pro-football-reference.com/years/{year}/week_{week}.htm')\n"
   ],
   "outputs": [],
   "metadata": {}
  },
  {
   "cell_type": "code",
   "execution_count": 89,
   "source": [
    "def get_games_list(table_list):\n",
    "    games_list = []\n",
    "    i = 0\n",
    "    for table_df in table_list:\n",
    "        '''\n",
    "    WORK GAME TABLES\n",
    "    we expect 3 rows where the first row is the\n",
    "    date of the game and the 3rd column having\n",
    "    \"Final\" and NaN\n",
    "    '''\n",
    "        if len(table_df.index) == 3:\n",
    "            if (table_df[2][1] == \"Final\") & (table_df[2][2] is np.nan):\n",
    "                i += 1\n",
    "                # selecting only teams and scores from table\n",
    "                df = table_df.iloc[1:3, 0:2]\n",
    "                df.columns = ['team','score']\n",
    "                df.index = [\n",
    "                    'away',\n",
    "                    'home'\n",
    "                ]\n",
    "                df['score'] = df['score'].astype('int64')\n",
    "                score_away = df['score']['away']\n",
    "                score_home = df['score']['home']\n",
    "                was_home_win = score_home > score_away\n",
    "\n",
    "                df.insert(2, \"win\", [was_home_win == False, was_home_win == True])\n",
    "\n",
    "                # add home data\n",
    "                week_number = 1  # m@: get correct week here\n",
    "                home_data = {\n",
    "                    'week': week_number,\n",
    "                    'team': df['team']['home'],\n",
    "                    'team_score': df['score']['home'],\n",
    "                    'opponent': df['team']['away'],\n",
    "                    'opponent_score': df['score']['away'],\n",
    "                    'win': 1 if was_home_win == True else 0,\n",
    "                    'home': 1,\n",
    "                }\n",
    "                away_data = {\n",
    "                    'week': week_number,\n",
    "                    'team': df['team']['away'],\n",
    "                    'team_score': df['score']['away'],\n",
    "                    'opponent': df['team']['home'],\n",
    "                    'opponent_score': df['score']['home'],\n",
    "                    'win': 0 if was_home_win == True else 1,\n",
    "                    'home': 0,\n",
    "                }\n",
    "                games_list.append(home_data)\n",
    "                games_list.append(away_data)\n",
    "\n",
    "                # print(f'[{i}]------')\n",
    "                # print(df)\n",
    "\n",
    "\n",
    "    return games_list\n"
   ],
   "outputs": [],
   "metadata": {}
  },
  {
   "cell_type": "code",
   "execution_count": 90,
   "source": [
    "# read in the tables from this period\n",
    "page_table_list = get_tables_for(2020, 1)\n",
    "len(page_table_list)\n"
   ],
   "outputs": [
    {
     "output_type": "execute_result",
     "data": {
      "text/plain": [
       "33"
      ]
     },
     "metadata": {},
     "execution_count": 90
    }
   ],
   "metadata": {}
  },
  {
   "cell_type": "code",
   "execution_count": 79,
   "source": [
    "page_table_list[10]"
   ],
   "outputs": [
    {
     "output_type": "execute_result",
     "data": {
      "text/html": [
       "<div>\n",
       "<style scoped>\n",
       "    .dataframe tbody tr th:only-of-type {\n",
       "        vertical-align: middle;\n",
       "    }\n",
       "\n",
       "    .dataframe tbody tr th {\n",
       "        vertical-align: top;\n",
       "    }\n",
       "\n",
       "    .dataframe thead th {\n",
       "        text-align: right;\n",
       "    }\n",
       "</style>\n",
       "<table border=\"1\" class=\"dataframe\">\n",
       "  <thead>\n",
       "    <tr style=\"text-align: right;\">\n",
       "      <th></th>\n",
       "      <th>0</th>\n",
       "      <th>1</th>\n",
       "      <th>2</th>\n",
       "    </tr>\n",
       "  </thead>\n",
       "  <tbody>\n",
       "    <tr>\n",
       "      <th>0</th>\n",
       "      <td>Sep 13, 2020</td>\n",
       "      <td>Sep 13, 2020</td>\n",
       "      <td>Sep 13, 2020</td>\n",
       "    </tr>\n",
       "    <tr>\n",
       "      <th>1</th>\n",
       "      <td>Miami Dolphins</td>\n",
       "      <td>11</td>\n",
       "      <td>Final</td>\n",
       "    </tr>\n",
       "    <tr>\n",
       "      <th>2</th>\n",
       "      <td>New England Patriots</td>\n",
       "      <td>21</td>\n",
       "      <td>NaN</td>\n",
       "    </tr>\n",
       "  </tbody>\n",
       "</table>\n",
       "</div>"
      ],
      "text/plain": [
       "                      0             1             2\n",
       "0          Sep 13, 2020  Sep 13, 2020  Sep 13, 2020\n",
       "1        Miami Dolphins            11         Final\n",
       "2  New England Patriots            21           NaN"
      ]
     },
     "metadata": {},
     "execution_count": 79
    }
   ],
   "metadata": {}
  },
  {
   "cell_type": "code",
   "execution_count": 80,
   "source": [
    "page_table_list[10].info()"
   ],
   "outputs": [
    {
     "output_type": "stream",
     "name": "stdout",
     "text": [
      "<class 'pandas.core.frame.DataFrame'>\n",
      "RangeIndex: 3 entries, 0 to 2\n",
      "Data columns (total 3 columns):\n",
      " #   Column  Non-Null Count  Dtype \n",
      "---  ------  --------------  ----- \n",
      " 0   0       3 non-null      object\n",
      " 1   1       3 non-null      object\n",
      " 2   2       2 non-null      object\n",
      "dtypes: object(3)\n",
      "memory usage: 200.0+ bytes\n"
     ]
    }
   ],
   "metadata": {}
  },
  {
   "cell_type": "code",
   "execution_count": 91,
   "source": [
    "\n",
    "# now that we're done let's get a df from that\n",
    "games_df = pd.DataFrame(get_games_list(table_list=page_table_list))\n",
    "games_df.head()"
   ],
   "outputs": [
    {
     "output_type": "execute_result",
     "data": {
      "text/html": [
       "<div>\n",
       "<style scoped>\n",
       "    .dataframe tbody tr th:only-of-type {\n",
       "        vertical-align: middle;\n",
       "    }\n",
       "\n",
       "    .dataframe tbody tr th {\n",
       "        vertical-align: top;\n",
       "    }\n",
       "\n",
       "    .dataframe thead th {\n",
       "        text-align: right;\n",
       "    }\n",
       "</style>\n",
       "<table border=\"1\" class=\"dataframe\">\n",
       "  <thead>\n",
       "    <tr style=\"text-align: right;\">\n",
       "      <th></th>\n",
       "      <th>week</th>\n",
       "      <th>team</th>\n",
       "      <th>team_score</th>\n",
       "      <th>opponent</th>\n",
       "      <th>opponent_score</th>\n",
       "      <th>win</th>\n",
       "      <th>home</th>\n",
       "    </tr>\n",
       "  </thead>\n",
       "  <tbody>\n",
       "    <tr>\n",
       "      <th>0</th>\n",
       "      <td>1</td>\n",
       "      <td>Kansas City Chiefs</td>\n",
       "      <td>34</td>\n",
       "      <td>Houston Texans</td>\n",
       "      <td>20</td>\n",
       "      <td>1</td>\n",
       "      <td>1</td>\n",
       "    </tr>\n",
       "    <tr>\n",
       "      <th>1</th>\n",
       "      <td>1</td>\n",
       "      <td>Houston Texans</td>\n",
       "      <td>20</td>\n",
       "      <td>Kansas City Chiefs</td>\n",
       "      <td>34</td>\n",
       "      <td>0</td>\n",
       "      <td>0</td>\n",
       "    </tr>\n",
       "    <tr>\n",
       "      <th>2</th>\n",
       "      <td>1</td>\n",
       "      <td>Buffalo Bills</td>\n",
       "      <td>27</td>\n",
       "      <td>New York Jets</td>\n",
       "      <td>17</td>\n",
       "      <td>1</td>\n",
       "      <td>1</td>\n",
       "    </tr>\n",
       "    <tr>\n",
       "      <th>3</th>\n",
       "      <td>1</td>\n",
       "      <td>New York Jets</td>\n",
       "      <td>17</td>\n",
       "      <td>Buffalo Bills</td>\n",
       "      <td>27</td>\n",
       "      <td>0</td>\n",
       "      <td>0</td>\n",
       "    </tr>\n",
       "    <tr>\n",
       "      <th>4</th>\n",
       "      <td>1</td>\n",
       "      <td>Atlanta Falcons</td>\n",
       "      <td>25</td>\n",
       "      <td>Seattle Seahawks</td>\n",
       "      <td>38</td>\n",
       "      <td>0</td>\n",
       "      <td>1</td>\n",
       "    </tr>\n",
       "  </tbody>\n",
       "</table>\n",
       "</div>"
      ],
      "text/plain": [
       "   week                team  team_score            opponent  opponent_score  \\\n",
       "0     1  Kansas City Chiefs          34      Houston Texans              20   \n",
       "1     1      Houston Texans          20  Kansas City Chiefs              34   \n",
       "2     1       Buffalo Bills          27       New York Jets              17   \n",
       "3     1       New York Jets          17       Buffalo Bills              27   \n",
       "4     1     Atlanta Falcons          25    Seattle Seahawks              38   \n",
       "\n",
       "   win  home  \n",
       "0    1     1  \n",
       "1    0     0  \n",
       "2    1     1  \n",
       "3    0     0  \n",
       "4    0     1  "
      ]
     },
     "metadata": {},
     "execution_count": 91
    }
   ],
   "metadata": {}
  },
  {
   "cell_type": "code",
   "execution_count": null,
   "source": [],
   "outputs": [],
   "metadata": {}
  }
 ],
 "metadata": {
  "orig_nbformat": 4,
  "language_info": {
   "name": "python",
   "version": "3.8.8",
   "mimetype": "text/x-python",
   "codemirror_mode": {
    "name": "ipython",
    "version": 3
   },
   "pygments_lexer": "ipython3",
   "nbconvert_exporter": "python",
   "file_extension": ".py"
  },
  "kernelspec": {
   "name": "python3",
   "display_name": "Python 3.8.8 64-bit ('base': conda)"
  },
  "interpreter": {
   "hash": "dca0ade3e726a953b501b15e8e990130d2b7799f14cfd9f4271676035ebe5511"
  }
 },
 "nbformat": 4,
 "nbformat_minor": 2
}