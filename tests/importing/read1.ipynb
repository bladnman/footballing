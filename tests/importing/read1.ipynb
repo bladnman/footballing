{
 "cells": [
  {
   "cell_type": "code",
   "execution_count": 2,
   "source": [
    "import numpy as np\n",
    "import pandas as pd\n"
   ],
   "outputs": [],
   "metadata": {}
  },
  {
   "cell_type": "code",
   "execution_count": 6,
   "source": [
    "table_MN = pd.read_html(\n",
    "    'https://www.pro-football-reference.com/years/2020/week_1.htm')\n",
    "len(table_MN)\n"
   ],
   "outputs": [
    {
     "output_type": "execute_result",
     "data": {
      "text/plain": [
       "33"
      ]
     },
     "metadata": {},
     "execution_count": 6
    }
   ],
   "metadata": {}
  },
  {
   "cell_type": "code",
   "execution_count": 71,
   "source": [
    "table_MN[10].head()"
   ],
   "outputs": [
    {
     "output_type": "execute_result",
     "data": {
      "text/html": [
       "<div>\n",
       "<style scoped>\n",
       "    .dataframe tbody tr th:only-of-type {\n",
       "        vertical-align: middle;\n",
       "    }\n",
       "\n",
       "    .dataframe tbody tr th {\n",
       "        vertical-align: top;\n",
       "    }\n",
       "\n",
       "    .dataframe thead th {\n",
       "        text-align: right;\n",
       "    }\n",
       "</style>\n",
       "<table border=\"1\" class=\"dataframe\">\n",
       "  <thead>\n",
       "    <tr style=\"text-align: right;\">\n",
       "      <th></th>\n",
       "      <th>0</th>\n",
       "      <th>1</th>\n",
       "      <th>2</th>\n",
       "    </tr>\n",
       "  </thead>\n",
       "  <tbody>\n",
       "    <tr>\n",
       "      <th>0</th>\n",
       "      <td>Sep 13, 2020</td>\n",
       "      <td>Sep 13, 2020</td>\n",
       "      <td>Sep 13, 2020</td>\n",
       "    </tr>\n",
       "    <tr>\n",
       "      <th>1</th>\n",
       "      <td>Miami Dolphins</td>\n",
       "      <td>11</td>\n",
       "      <td>Final</td>\n",
       "    </tr>\n",
       "    <tr>\n",
       "      <th>2</th>\n",
       "      <td>New England Patriots</td>\n",
       "      <td>21</td>\n",
       "      <td>NaN</td>\n",
       "    </tr>\n",
       "  </tbody>\n",
       "</table>\n",
       "</div>"
      ],
      "text/plain": [
       "                      0             1             2\n",
       "0          Sep 13, 2020  Sep 13, 2020  Sep 13, 2020\n",
       "1        Miami Dolphins            11         Final\n",
       "2  New England Patriots            21           NaN"
      ]
     },
     "metadata": {},
     "execution_count": 71
    }
   ],
   "metadata": {}
  },
  {
   "cell_type": "code",
   "execution_count": 48,
   "source": [
    "tdf = table_MN[32]\n",
    "tdf\n"
   ],
   "outputs": [
    {
     "output_type": "execute_result",
     "data": {
      "text/html": [
       "<div>\n",
       "<style scoped>\n",
       "    .dataframe tbody tr th:only-of-type {\n",
       "        vertical-align: middle;\n",
       "    }\n",
       "\n",
       "    .dataframe tbody tr th {\n",
       "        vertical-align: top;\n",
       "    }\n",
       "\n",
       "    .dataframe thead th {\n",
       "        text-align: right;\n",
       "    }\n",
       "</style>\n",
       "<table border=\"1\" class=\"dataframe\">\n",
       "  <thead>\n",
       "    <tr style=\"text-align: right;\">\n",
       "      <th></th>\n",
       "      <th>Conf</th>\n",
       "      <th>Offense</th>\n",
       "      <th>Defense</th>\n",
       "      <th>Special Teams</th>\n",
       "    </tr>\n",
       "  </thead>\n",
       "  <tbody>\n",
       "    <tr>\n",
       "      <th>0</th>\n",
       "      <td>AFC</td>\n",
       "      <td>Lamar Jackson</td>\n",
       "      <td>Casey Hayward</td>\n",
       "      <td>Daniel Carlson</td>\n",
       "    </tr>\n",
       "    <tr>\n",
       "      <th>1</th>\n",
       "      <td>NFC</td>\n",
       "      <td>Russell Wilson</td>\n",
       "      <td>Ryan Kerrigan</td>\n",
       "      <td>Thomas Morstead</td>\n",
       "    </tr>\n",
       "  </tbody>\n",
       "</table>\n",
       "</div>"
      ],
      "text/plain": [
       "  Conf         Offense        Defense    Special Teams\n",
       "0  AFC   Lamar Jackson  Casey Hayward   Daniel Carlson\n",
       "1  NFC  Russell Wilson  Ryan Kerrigan  Thomas Morstead"
      ]
     },
     "metadata": {},
     "execution_count": 48
    }
   ],
   "metadata": {}
  },
  {
   "cell_type": "code",
   "execution_count": 70,
   "source": [
    "len(tdf.index)"
   ],
   "outputs": [
    {
     "output_type": "execute_result",
     "data": {
      "text/plain": [
       "2"
      ]
     },
     "metadata": {},
     "execution_count": 70
    }
   ],
   "metadata": {}
  },
  {
   "cell_type": "code",
   "execution_count": 69,
   "source": [
    "len(table_MN[30].index)\n"
   ],
   "outputs": [
    {
     "output_type": "execute_result",
     "data": {
      "text/plain": [
       "3"
      ]
     },
     "metadata": {},
     "execution_count": 69
    }
   ],
   "metadata": {}
  },
  {
   "cell_type": "code",
   "execution_count": 60,
   "source": [
    "len(tdf)"
   ],
   "outputs": [
    {
     "output_type": "execute_result",
     "data": {
      "text/plain": [
       "2"
      ]
     },
     "metadata": {},
     "execution_count": 60
    }
   ],
   "metadata": {}
  },
  {
   "cell_type": "code",
   "execution_count": 73,
   "source": [
    "i = 0\n",
    "for df in table_MN:\n",
    "  '''\n",
    "  WORK GAME TABLES\n",
    "  we expect 3 rows where the first row is the\n",
    "  date of the game and the 3rd column having\n",
    "  \"Final\" and NaN\n",
    "  '''\n",
    "  if len(df.index) == 3:\n",
    "    try:\n",
    "      if (df[2][1] == \"Final\") & (df[2][2] is np.nan):\n",
    "        i += 1 \n",
    "        # dropping the first (date) row\n",
    "        df_box = df[1:]\n",
    "        print(f'[{i}]------')\n",
    "        print(df_box)\n",
    "    except:\n",
    "      print('********** An exception occurred')\n",
    "      print(df)\n",
    "\n",
    "\n",
    "\n"
   ],
   "outputs": [
    {
     "output_type": "stream",
     "name": "stdout",
     "text": [
      "[1]------\n",
      "                    0   1      2\n",
      "1      Houston Texans  20  Final\n",
      "2  Kansas City Chiefs  34    NaN\n",
      "[2]------\n",
      "               0   1      2\n",
      "1  New York Jets  17  Final\n",
      "2  Buffalo Bills  27    NaN\n",
      "[3]------\n",
      "                  0   1      2\n",
      "1  Seattle Seahawks  38  Final\n",
      "2   Atlanta Falcons  25    NaN\n",
      "[4]------\n",
      "                          0   1      2\n",
      "1       Philadelphia Eagles  17  Final\n",
      "2  Washington Football Team  27    NaN\n",
      "[5]------\n",
      "                  0   1      2\n",
      "1  Cleveland Browns   6  Final\n",
      "2  Baltimore Ravens  38    NaN\n",
      "[6]------\n",
      "                      0   1      2\n",
      "1        Miami Dolphins  11  Final\n",
      "2  New England Patriots  21    NaN\n",
      "[7]------\n",
      "                   0   1      2\n",
      "1  Green Bay Packers  43  Final\n",
      "2  Minnesota Vikings  34    NaN\n",
      "[8]------\n",
      "                      0   1      2\n",
      "1    Indianapolis Colts  20  Final\n",
      "2  Jacksonville Jaguars  27    NaN\n",
      "[9]------\n",
      "               0   1      2\n",
      "1  Chicago Bears  27  Final\n",
      "2  Detroit Lions  23    NaN\n",
      "[10]------\n",
      "                   0   1      2\n",
      "1  Las Vegas Raiders  34  Final\n",
      "2  Carolina Panthers  30    NaN\n",
      "[11]------\n",
      "                      0   1      2\n",
      "1  Los Angeles Chargers  16  Final\n",
      "2    Cincinnati Bengals  13    NaN\n",
      "[12]------\n",
      "                     0   1      2\n",
      "1    Arizona Cardinals  24  Final\n",
      "2  San Francisco 49ers  20    NaN\n",
      "[13]------\n",
      "                      0   1      2\n",
      "1  Tampa Bay Buccaneers  23  Final\n",
      "2    New Orleans Saints  34    NaN\n",
      "[14]------\n",
      "                  0   1      2\n",
      "1    Dallas Cowboys  17  Final\n",
      "2  Los Angeles Rams  20    NaN\n",
      "[15]------\n",
      "                     0   1      2\n",
      "1  Pittsburgh Steelers  26  Final\n",
      "2      New York Giants  16    NaN\n",
      "[16]------\n",
      "                  0   1      2\n",
      "1  Tennessee Titans  16  Final\n",
      "2    Denver Broncos  14    NaN\n"
     ]
    }
   ],
   "metadata": {}
  },
  {
   "cell_type": "code",
   "execution_count": null,
   "source": [],
   "outputs": [],
   "metadata": {}
  }
 ],
 "metadata": {
  "orig_nbformat": 4,
  "language_info": {
   "name": "python",
   "version": "3.8.8",
   "mimetype": "text/x-python",
   "codemirror_mode": {
    "name": "ipython",
    "version": 3
   },
   "pygments_lexer": "ipython3",
   "nbconvert_exporter": "python",
   "file_extension": ".py"
  },
  "kernelspec": {
   "name": "python3",
   "display_name": "Python 3.8.8 64-bit ('base': conda)"
  },
  "interpreter": {
   "hash": "35d4093377125a965be9a5833f25b3dc0e8233d057ec383416b82901922cf930"
  }
 },
 "nbformat": 4,
 "nbformat_minor": 2
}