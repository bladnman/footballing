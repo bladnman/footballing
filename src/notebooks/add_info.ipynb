{
 "cells": [
  {
   "cell_type": "code",
   "execution_count": 2,
   "metadata": {},
   "outputs": [],
   "source": [
    "import sys\n",
    "sys.path.insert(1, '..')\n",
    "import game_utils as gu\n",
    "import pandas as pd\n"
   ]
  },
  {
   "cell_type": "code",
   "execution_count": 3,
   "metadata": {},
   "outputs": [],
   "source": [
    "df = pd.read_csv('../../data/games/all_games.csv')\n",
    "# df = pd.read_csv('../../data/games/games_2010.csv')\n",
    "# df = pd.read_csv('../../data/games/games_2020.csv')\n",
    "games_with_info = []\n",
    "for i in range(0, len(df.index)):\n",
    "    game = df.iloc[i]\n",
    "    filename = gu.get_game_filename(game)\n",
    "    info_df = pd.read_csv(f'../../data/game_info/game_info_{filename}.csv')\n",
    "    games_with_info.append(gu.get_game_with_info(game, info_df))\n",
    "\n",
    "games_with_info_df = pd.DataFrame(games_with_info)\n",
    "games_with_info_df.to_csv('../../data/games/all_games_with_info.csv',\n",
    "                          index=False)\n"
   ]
  },
  {
   "cell_type": "code",
   "execution_count": null,
   "metadata": {},
   "outputs": [],
   "source": []
  }
 ],
 "metadata": {
  "interpreter": {
   "hash": "dca0ade3e726a953b501b15e8e990130d2b7799f14cfd9f4271676035ebe5511"
  },
  "kernelspec": {
   "display_name": "Python 3.8.8 64-bit ('base': conda)",
   "name": "python3"
  },
  "language_info": {
   "codemirror_mode": {
    "name": "ipython",
    "version": 3
   },
   "file_extension": ".py",
   "mimetype": "text/x-python",
   "name": "python",
   "nbconvert_exporter": "python",
   "pygments_lexer": "ipython3",
   "version": "3.8.8"
  },
  "orig_nbformat": 4
 },
 "nbformat": 4,
 "nbformat_minor": 2
}
