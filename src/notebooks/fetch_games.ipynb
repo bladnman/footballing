{
 "cells": [
  {
   "cell_type": "markdown",
   "source": [
    "# Footballing\n",
    "\n",
    "We will attempt to strip historical win/loss data from a website for future ML projects.\n",
    "\n",
    "[The historical website](https://www.pro-football-reference.com)\n",
    "\n",
    "[Work spreadsheet for designs](https://docs.google.com/spreadsheets/d/1MkQ_J3gGDs_vkkERELOZojhwS9Wt-1eX4vFL7VP9TQE/edit#gid=0)"
   ],
   "metadata": {}
  },
  {
   "cell_type": "code",
   "execution_count": null,
   "source": [
    "START_YEAR = 2010\n",
    "END_YEAR = 2020"
   ],
   "outputs": [],
   "metadata": {}
  },
  {
   "cell_type": "code",
   "execution_count": 30,
   "source": [
    "import numpy as np\n",
    "import pandas as pd\n",
    "\n",
    "def get_tables_for(year, week):\n",
    "    return pd.read_html(\n",
    "        f'https://www.pro-football-reference.com/years/{year}/week_{week}.htm')\n",
    "def get_games_list(table_list, year, week):\n",
    "    games_list = []\n",
    "    i = 0\n",
    "    for table_df in table_list:\n",
    "        '''\n",
    "    WORK GAME TABLES\n",
    "    we expect 3 rows where the first row is the\n",
    "    date of the game and the 3rd column having\n",
    "    \"Final\" and NaN\n",
    "    '''\n",
    "        if len(table_df.index) == 3:\n",
    "            if (table_df[2][1] == \"Final\") & (table_df[2][2] is np.nan):\n",
    "                i += 1\n",
    "                # selecting only teams and scores from table\n",
    "                df = table_df.iloc[1:3, 0:2]\n",
    "                df.columns = ['team','score']\n",
    "                df.index = [\n",
    "                    'away',\n",
    "                    'home'\n",
    "                ]\n",
    "                df['score'] = df['score'].astype('int64')\n",
    "                score_away = df['score']['away']\n",
    "                score_home = df['score']['home']\n",
    "                was_home_win = score_home > score_away\n",
    "\n",
    "                df.insert(2, \"win\", [was_home_win == False, was_home_win == True])\n",
    "\n",
    "                # add home data\n",
    "                home_data = {\n",
    "                    'year': year,\n",
    "                    'week': week,\n",
    "                    'team': df['team']['home'],\n",
    "                    'team_score': df['score']['home'],\n",
    "                    'opponent': df['team']['away'],\n",
    "                    'opponent_score': df['score']['away'],\n",
    "                    'win': 1 if was_home_win == True else 0,\n",
    "                    'home': 1,\n",
    "                }\n",
    "                away_data = {\n",
    "                    'year': year,\n",
    "                    'week': week,\n",
    "                    'team': df['team']['away'],\n",
    "                    'team_score': df['score']['away'],\n",
    "                    'opponent': df['team']['home'],\n",
    "                    'opponent_score': df['score']['home'],\n",
    "                    'win': 0 if was_home_win == True else 1,\n",
    "                    'home': 0,\n",
    "                }\n",
    "                games_list.append(home_data)\n",
    "                games_list.append(away_data)\n",
    "\n",
    "                # print(f'[{i}]------')\n",
    "                # print(df)\n",
    "\n",
    "\n",
    "    return games_list\n",
    "\n",
    "\n",
    "def get_games_df_for_year_week(year, week):\n",
    "    return pd.DataFrame(get_games_list(get_tables_for(year, week), year, week))\n",
    "\n",
    "\n",
    "def get_games_df_for_year(year):\n",
    "    games_df_list = []\n",
    "    max_week = 17\n",
    "    if year <= 1989:\n",
    "        max_week = 16\n",
    "    elif year == 1993:\n",
    "        max_week = 18\n",
    "    elif year >= 2021:\n",
    "        max_week = 18\n",
    "\n",
    "    for week in range(1, max_week + 1):\n",
    "        games_df_list.append(get_games_df_for_year_week(year, week))\n",
    "\n",
    "    year_games_df = pd.concat(games_df_list)\n",
    "    return year_games_df\n"
   ],
   "outputs": [],
   "metadata": {}
  },
  {
   "cell_type": "code",
   "execution_count": 47,
   "source": [
    "all_games_df_list = []\n",
    "for year in range(START_YEAR, END_YEAR + 1):\n",
    "    year_df = get_games_df_for_year(year)\n",
    "    year_df.to_csv(f'games_{year}.csv', index=False)\n",
    "    all_games_df_list.append(year_df)\n",
    "\n",
    "all_games_df = pd.concat(all_games_df_list, ignore_index=True)\n",
    "all_games_df.to_csv(f'all_games.csv', index=False)\n"
   ],
   "outputs": [],
   "metadata": {}
  }
 ],
 "metadata": {
  "orig_nbformat": 4,
  "language_info": {
   "name": "python",
   "version": "3.8.8",
   "mimetype": "text/x-python",
   "codemirror_mode": {
    "name": "ipython",
    "version": 3
   },
   "pygments_lexer": "ipython3",
   "nbconvert_exporter": "python",
   "file_extension": ".py"
  },
  "kernelspec": {
   "name": "python3",
   "display_name": "Python 3.8.8 64-bit ('base': conda)"
  },
  "interpreter": {
   "hash": "dca0ade3e726a953b501b15e8e990130d2b7799f14cfd9f4271676035ebe5511"
  }
 },
 "nbformat": 4,
 "nbformat_minor": 2
}