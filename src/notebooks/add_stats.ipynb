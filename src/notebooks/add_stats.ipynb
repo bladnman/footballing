{
 "cells": [
  {
   "cell_type": "code",
   "execution_count": 1,
   "metadata": {},
   "outputs": [],
   "source": [
    "import sys\n",
    "\n",
    "sys.path.insert(1, '..')\n",
    "import game_utils as gu\n",
    "import pandas as pd"
   ]
  },
  {
   "cell_type": "code",
   "execution_count": 18,
   "metadata": {},
   "outputs": [],
   "source": [
    "def get_stat_df_for_game(game_df):\n",
    "    filename = gu.get_game_filename(game_df)\n",
    "    stats_df = pd.read_csv(f'../../data/game_stats/game_stats_{filename}.csv')\n",
    "    home_team, away_team = gu.get_game_teams(game_df)\n",
    "    stats_df.columns = ['', away_team, home_team]\n",
    "    stats_df = stats_df.set_index('')\n",
    "    return stats_df\n",
    "    "
   ]
  },
  {
   "cell_type": "code",
   "execution_count": 27,
   "metadata": {},
   "outputs": [],
   "source": [
    "df = pd.read_csv('../../data/games/all_games_with_info.csv')\n",
    "# df = pd.read_csv('../../data/games/games_2020.csv')\n",
    "\n",
    "games_with_stats = []\n",
    "for i in range(0, len(df.index)):\n",
    "    game_df = df.iloc[i]\n",
    "    stats_df = get_stat_df_for_game(game_df)\n",
    "    stats_df.columns = ['away', 'home']\n",
    "    games_with_stats.append(gu.get_game_with_stats(game_df, stats_df))\n",
    "\n",
    "# game_df = df.iloc[22]\n",
    "# stats_df = get_stat_df_for_game(game_df)\n",
    "# stats_df.columns = ['away', 'home']\n",
    "# gu.get_game_with_stats(game_df, stats_df)\n",
    "games_with_stats_df = pd.DataFrame(games_with_stats)\n",
    "games_with_stats_df.to_csv('../../data/games/all_games_with_stats.csv',\n",
    "                          index=False)\n"
   ]
  },
  {
   "cell_type": "code",
   "execution_count": 28,
   "metadata": {},
   "outputs": [
    {
     "data": {
      "text/plain": [
       "date                 2020-09-13\n",
       "year                       2020\n",
       "week                          1\n",
       "team              Detroit Lions\n",
       "team_score                   23\n",
       "opponent          Chicago Bears\n",
       "opponent_score               27\n",
       "win                           0\n",
       "home                          1\n",
       "Name: 16, dtype: object"
      ]
     },
     "execution_count": 28,
     "metadata": {},
     "output_type": "execute_result"
    }
   ],
   "source": [
    "df.iloc[16]"
   ]
  },
  {
   "cell_type": "code",
   "execution_count": 29,
   "metadata": {},
   "outputs": [
    {
     "data": {
      "text/html": [
       "<div>\n",
       "<style scoped>\n",
       "    .dataframe tbody tr th:only-of-type {\n",
       "        vertical-align: middle;\n",
       "    }\n",
       "\n",
       "    .dataframe tbody tr th {\n",
       "        vertical-align: top;\n",
       "    }\n",
       "\n",
       "    .dataframe thead th {\n",
       "        text-align: right;\n",
       "    }\n",
       "</style>\n",
       "<table border=\"1\" class=\"dataframe\">\n",
       "  <thead>\n",
       "    <tr style=\"text-align: right;\">\n",
       "      <th></th>\n",
       "      <th>Chicago Bears</th>\n",
       "      <th>Detroit Lions</th>\n",
       "    </tr>\n",
       "    <tr>\n",
       "      <th></th>\n",
       "      <th></th>\n",
       "      <th></th>\n",
       "    </tr>\n",
       "  </thead>\n",
       "  <tbody>\n",
       "    <tr>\n",
       "      <th>First Downs</th>\n",
       "      <td>26</td>\n",
       "      <td>25</td>\n",
       "    </tr>\n",
       "    <tr>\n",
       "      <th>Rush-Yds-TDs</th>\n",
       "      <td>28-149-0</td>\n",
       "      <td>29-138-1</td>\n",
       "    </tr>\n",
       "    <tr>\n",
       "      <th>Cmp-Att-Yd-TD-INT</th>\n",
       "      <td>20-36-242-3-0</td>\n",
       "      <td>24-42-297-1-1</td>\n",
       "    </tr>\n",
       "    <tr>\n",
       "      <th>Sacked-Yards</th>\n",
       "      <td>1-28</td>\n",
       "      <td>1-9</td>\n",
       "    </tr>\n",
       "    <tr>\n",
       "      <th>Net Pass Yards</th>\n",
       "      <td>214</td>\n",
       "      <td>288</td>\n",
       "    </tr>\n",
       "    <tr>\n",
       "      <th>Total Yards</th>\n",
       "      <td>363</td>\n",
       "      <td>426</td>\n",
       "    </tr>\n",
       "    <tr>\n",
       "      <th>Fumbles-Lost</th>\n",
       "      <td>1-0</td>\n",
       "      <td>0-0</td>\n",
       "    </tr>\n",
       "    <tr>\n",
       "      <th>Turnovers</th>\n",
       "      <td>0</td>\n",
       "      <td>1</td>\n",
       "    </tr>\n",
       "    <tr>\n",
       "      <th>Penalties-Yards</th>\n",
       "      <td>6-48</td>\n",
       "      <td>8-77</td>\n",
       "    </tr>\n",
       "    <tr>\n",
       "      <th>Third Down Conv.</th>\n",
       "      <td>2-11</td>\n",
       "      <td>6-16</td>\n",
       "    </tr>\n",
       "    <tr>\n",
       "      <th>Fourth Down Conv.</th>\n",
       "      <td>1-2</td>\n",
       "      <td>0-0</td>\n",
       "    </tr>\n",
       "    <tr>\n",
       "      <th>Time of Possession</th>\n",
       "      <td>29:05</td>\n",
       "      <td>30:55</td>\n",
       "    </tr>\n",
       "  </tbody>\n",
       "</table>\n",
       "</div>"
      ],
      "text/plain": [
       "                    Chicago Bears  Detroit Lions\n",
       "                                                \n",
       "First Downs                    26             25\n",
       "Rush-Yds-TDs             28-149-0       29-138-1\n",
       "Cmp-Att-Yd-TD-INT   20-36-242-3-0  24-42-297-1-1\n",
       "Sacked-Yards                 1-28            1-9\n",
       "Net Pass Yards                214            288\n",
       "Total Yards                   363            426\n",
       "Fumbles-Lost                  1-0            0-0\n",
       "Turnovers                       0              1\n",
       "Penalties-Yards              6-48           8-77\n",
       "Third Down Conv.             2-11           6-16\n",
       "Fourth Down Conv.             1-2            0-0\n",
       "Time of Possession          29:05          30:55"
      ]
     },
     "execution_count": 29,
     "metadata": {},
     "output_type": "execute_result"
    }
   ],
   "source": [
    "get_stat_df_for_game(df.iloc[16])"
   ]
  },
  {
   "cell_type": "code",
   "execution_count": null,
   "metadata": {},
   "outputs": [],
   "source": []
  }
 ],
 "metadata": {
  "interpreter": {
   "hash": "35d4093377125a965be9a5833f25b3dc0e8233d057ec383416b82901922cf930"
  },
  "kernelspec": {
   "display_name": "Python 3.8.8 64-bit ('base': conda)",
   "name": "python3"
  },
  "language_info": {
   "codemirror_mode": {
    "name": "ipython",
    "version": 3
   },
   "file_extension": ".py",
   "mimetype": "text/x-python",
   "name": "python",
   "nbconvert_exporter": "python",
   "pygments_lexer": "ipython3",
   "version": "3.8.8"
  },
  "orig_nbformat": 4
 },
 "nbformat": 4,
 "nbformat_minor": 2
}
