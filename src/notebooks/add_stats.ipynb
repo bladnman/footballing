{
 "cells": [
  {
   "cell_type": "code",
   "execution_count": 44,
   "source": [
    "import sys\n",
    "\n",
    "sys.path.insert(1, '..')\n",
    "import game_utils as gu\n",
    "import pandas as pd"
   ],
   "outputs": [],
   "metadata": {}
  },
  {
   "cell_type": "code",
   "execution_count": 45,
   "source": [
    "all_games = pd.read_csv('../../data/games/all_games_with_info.csv')\n",
    "df = all_games"
   ],
   "outputs": [],
   "metadata": {}
  },
  {
   "cell_type": "code",
   "execution_count": 46,
   "source": [
    "game = df.iloc[0]\n",
    "filename = gu.get_game_filename(game)\n",
    "stats = pd.read_csv(f'../../data/game_stats/game_stats_{filename}.csv')"
   ],
   "outputs": [],
   "metadata": {}
  },
  {
   "cell_type": "code",
   "execution_count": 47,
   "source": [
    "game"
   ],
   "outputs": [
    {
     "output_type": "execute_result",
     "data": {
      "text/plain": [
       "date                      2010-09-09\n",
       "year                            2010\n",
       "week                               1\n",
       "team              New Orleans Saints\n",
       "team_score                        14\n",
       "opponent           Minnesota Vikings\n",
       "opponent_score                     9\n",
       "win                                1\n",
       "home                               1\n",
       "temperature                      NaN\n",
       "wind                             NaN\n",
       "humidity                         NaN\n",
       "roof                            dome\n",
       "surface                    sportturf\n",
       "Name: 0, dtype: object"
      ]
     },
     "metadata": {},
     "execution_count": 47
    }
   ],
   "metadata": {}
  },
  {
   "cell_type": "code",
   "execution_count": 48,
   "source": [
    "stats"
   ],
   "outputs": [
    {
     "output_type": "execute_result",
     "data": {
      "text/html": [
       "<div>\n",
       "<style scoped>\n",
       "    .dataframe tbody tr th:only-of-type {\n",
       "        vertical-align: middle;\n",
       "    }\n",
       "\n",
       "    .dataframe tbody tr th {\n",
       "        vertical-align: top;\n",
       "    }\n",
       "\n",
       "    .dataframe thead th {\n",
       "        text-align: right;\n",
       "    }\n",
       "</style>\n",
       "<table border=\"1\" class=\"dataframe\">\n",
       "  <thead>\n",
       "    <tr style=\"text-align: right;\">\n",
       "      <th></th>\n",
       "      <th>stat</th>\n",
       "      <th>away</th>\n",
       "      <th>home</th>\n",
       "    </tr>\n",
       "  </thead>\n",
       "  <tbody>\n",
       "    <tr>\n",
       "      <th>0</th>\n",
       "      <td>First Downs</td>\n",
       "      <td>12</td>\n",
       "      <td>18</td>\n",
       "    </tr>\n",
       "    <tr>\n",
       "      <th>1</th>\n",
       "      <td>Rush-Yds-TDs</td>\n",
       "      <td>23-91-0</td>\n",
       "      <td>25-79-1</td>\n",
       "    </tr>\n",
       "    <tr>\n",
       "      <th>2</th>\n",
       "      <td>Cmp-Att-Yd-TD-INT</td>\n",
       "      <td>15-27-171-1-1</td>\n",
       "      <td>27-36-237-1-0</td>\n",
       "    </tr>\n",
       "    <tr>\n",
       "      <th>3</th>\n",
       "      <td>Sacked-Yards</td>\n",
       "      <td>1-9</td>\n",
       "      <td>1-8</td>\n",
       "    </tr>\n",
       "    <tr>\n",
       "      <th>4</th>\n",
       "      <td>Net Pass Yards</td>\n",
       "      <td>162</td>\n",
       "      <td>229</td>\n",
       "    </tr>\n",
       "    <tr>\n",
       "      <th>5</th>\n",
       "      <td>Total Yards</td>\n",
       "      <td>253</td>\n",
       "      <td>308</td>\n",
       "    </tr>\n",
       "    <tr>\n",
       "      <th>6</th>\n",
       "      <td>Fumbles-Lost</td>\n",
       "      <td>1-0</td>\n",
       "      <td>1-0</td>\n",
       "    </tr>\n",
       "    <tr>\n",
       "      <th>7</th>\n",
       "      <td>Turnovers</td>\n",
       "      <td>1</td>\n",
       "      <td>0</td>\n",
       "    </tr>\n",
       "    <tr>\n",
       "      <th>8</th>\n",
       "      <td>Penalties-Yards</td>\n",
       "      <td>6-60</td>\n",
       "      <td>3-20</td>\n",
       "    </tr>\n",
       "    <tr>\n",
       "      <th>9</th>\n",
       "      <td>Third Down Conv.</td>\n",
       "      <td>5-13</td>\n",
       "      <td>3-11</td>\n",
       "    </tr>\n",
       "    <tr>\n",
       "      <th>10</th>\n",
       "      <td>Fourth Down Conv.</td>\n",
       "      <td>0-0</td>\n",
       "      <td>0-0</td>\n",
       "    </tr>\n",
       "    <tr>\n",
       "      <th>11</th>\n",
       "      <td>Time of Possession</td>\n",
       "      <td>26:17</td>\n",
       "      <td>33:43</td>\n",
       "    </tr>\n",
       "  </tbody>\n",
       "</table>\n",
       "</div>"
      ],
      "text/plain": [
       "                  stat           away           home\n",
       "0          First Downs             12             18\n",
       "1         Rush-Yds-TDs        23-91-0        25-79-1\n",
       "2    Cmp-Att-Yd-TD-INT  15-27-171-1-1  27-36-237-1-0\n",
       "3         Sacked-Yards            1-9            1-8\n",
       "4       Net Pass Yards            162            229\n",
       "5          Total Yards            253            308\n",
       "6         Fumbles-Lost            1-0            1-0\n",
       "7            Turnovers              1              0\n",
       "8      Penalties-Yards           6-60           3-20\n",
       "9     Third Down Conv.           5-13           3-11\n",
       "10   Fourth Down Conv.            0-0            0-0\n",
       "11  Time of Possession          26:17          33:43"
      ]
     },
     "metadata": {},
     "execution_count": 48
    }
   ],
   "metadata": {}
  },
  {
   "cell_type": "code",
   "execution_count": 62,
   "source": [
    "home_team, away_team = gu.get_game_teams(game)\n",
    "print(f'{away_team} at {home_team}')"
   ],
   "outputs": [
    {
     "output_type": "stream",
     "name": "stdout",
     "text": [
      "Minnesota Vikings at New Orleans Saints\n"
     ]
    }
   ],
   "metadata": {}
  },
  {
   "cell_type": "code",
   "execution_count": 63,
   "source": [
    "stats.columns = ['', away_team, home_team]\n",
    "stats"
   ],
   "outputs": [
    {
     "output_type": "execute_result",
     "data": {
      "text/html": [
       "<div>\n",
       "<style scoped>\n",
       "    .dataframe tbody tr th:only-of-type {\n",
       "        vertical-align: middle;\n",
       "    }\n",
       "\n",
       "    .dataframe tbody tr th {\n",
       "        vertical-align: top;\n",
       "    }\n",
       "\n",
       "    .dataframe thead th {\n",
       "        text-align: right;\n",
       "    }\n",
       "</style>\n",
       "<table border=\"1\" class=\"dataframe\">\n",
       "  <thead>\n",
       "    <tr style=\"text-align: right;\">\n",
       "      <th></th>\n",
       "      <th></th>\n",
       "      <th>Minnesota Vikings</th>\n",
       "      <th>New Orleans Saints</th>\n",
       "    </tr>\n",
       "  </thead>\n",
       "  <tbody>\n",
       "    <tr>\n",
       "      <th>0</th>\n",
       "      <td>First Downs</td>\n",
       "      <td>12</td>\n",
       "      <td>18</td>\n",
       "    </tr>\n",
       "    <tr>\n",
       "      <th>1</th>\n",
       "      <td>Rush-Yds-TDs</td>\n",
       "      <td>23-91-0</td>\n",
       "      <td>25-79-1</td>\n",
       "    </tr>\n",
       "    <tr>\n",
       "      <th>2</th>\n",
       "      <td>Cmp-Att-Yd-TD-INT</td>\n",
       "      <td>15-27-171-1-1</td>\n",
       "      <td>27-36-237-1-0</td>\n",
       "    </tr>\n",
       "    <tr>\n",
       "      <th>3</th>\n",
       "      <td>Sacked-Yards</td>\n",
       "      <td>1-9</td>\n",
       "      <td>1-8</td>\n",
       "    </tr>\n",
       "    <tr>\n",
       "      <th>4</th>\n",
       "      <td>Net Pass Yards</td>\n",
       "      <td>162</td>\n",
       "      <td>229</td>\n",
       "    </tr>\n",
       "    <tr>\n",
       "      <th>5</th>\n",
       "      <td>Total Yards</td>\n",
       "      <td>253</td>\n",
       "      <td>308</td>\n",
       "    </tr>\n",
       "    <tr>\n",
       "      <th>6</th>\n",
       "      <td>Fumbles-Lost</td>\n",
       "      <td>1-0</td>\n",
       "      <td>1-0</td>\n",
       "    </tr>\n",
       "    <tr>\n",
       "      <th>7</th>\n",
       "      <td>Turnovers</td>\n",
       "      <td>1</td>\n",
       "      <td>0</td>\n",
       "    </tr>\n",
       "    <tr>\n",
       "      <th>8</th>\n",
       "      <td>Penalties-Yards</td>\n",
       "      <td>6-60</td>\n",
       "      <td>3-20</td>\n",
       "    </tr>\n",
       "    <tr>\n",
       "      <th>9</th>\n",
       "      <td>Third Down Conv.</td>\n",
       "      <td>5-13</td>\n",
       "      <td>3-11</td>\n",
       "    </tr>\n",
       "    <tr>\n",
       "      <th>10</th>\n",
       "      <td>Fourth Down Conv.</td>\n",
       "      <td>0-0</td>\n",
       "      <td>0-0</td>\n",
       "    </tr>\n",
       "    <tr>\n",
       "      <th>11</th>\n",
       "      <td>Time of Possession</td>\n",
       "      <td>26:17</td>\n",
       "      <td>33:43</td>\n",
       "    </tr>\n",
       "  </tbody>\n",
       "</table>\n",
       "</div>"
      ],
      "text/plain": [
       "                       Minnesota Vikings New Orleans Saints\n",
       "0          First Downs                12                 18\n",
       "1         Rush-Yds-TDs           23-91-0            25-79-1\n",
       "2    Cmp-Att-Yd-TD-INT     15-27-171-1-1      27-36-237-1-0\n",
       "3         Sacked-Yards               1-9                1-8\n",
       "4       Net Pass Yards               162                229\n",
       "5          Total Yards               253                308\n",
       "6         Fumbles-Lost               1-0                1-0\n",
       "7            Turnovers                 1                  0\n",
       "8      Penalties-Yards              6-60               3-20\n",
       "9     Third Down Conv.              5-13               3-11\n",
       "10   Fourth Down Conv.               0-0                0-0\n",
       "11  Time of Possession             26:17              33:43"
      ]
     },
     "metadata": {},
     "execution_count": 63
    }
   ],
   "metadata": {}
  },
  {
   "cell_type": "code",
   "execution_count": 66,
   "source": [
    "stats_t = stats.T\n",
    "stats_t.columns = stats_t.iloc[0]\n",
    "stats_t = stats_t[1:]"
   ],
   "outputs": [],
   "metadata": {}
  },
  {
   "cell_type": "code",
   "execution_count": 67,
   "source": [
    "stats_t"
   ],
   "outputs": [
    {
     "output_type": "execute_result",
     "data": {
      "text/html": [
       "<div>\n",
       "<style scoped>\n",
       "    .dataframe tbody tr th:only-of-type {\n",
       "        vertical-align: middle;\n",
       "    }\n",
       "\n",
       "    .dataframe tbody tr th {\n",
       "        vertical-align: top;\n",
       "    }\n",
       "\n",
       "    .dataframe thead th {\n",
       "        text-align: right;\n",
       "    }\n",
       "</style>\n",
       "<table border=\"1\" class=\"dataframe\">\n",
       "  <thead>\n",
       "    <tr style=\"text-align: right;\">\n",
       "      <th></th>\n",
       "      <th>First Downs</th>\n",
       "      <th>Rush-Yds-TDs</th>\n",
       "      <th>Cmp-Att-Yd-TD-INT</th>\n",
       "      <th>Sacked-Yards</th>\n",
       "      <th>Net Pass Yards</th>\n",
       "      <th>Total Yards</th>\n",
       "      <th>Fumbles-Lost</th>\n",
       "      <th>Turnovers</th>\n",
       "      <th>Penalties-Yards</th>\n",
       "      <th>Third Down Conv.</th>\n",
       "      <th>Fourth Down Conv.</th>\n",
       "      <th>Time of Possession</th>\n",
       "    </tr>\n",
       "  </thead>\n",
       "  <tbody>\n",
       "    <tr>\n",
       "      <th>Minnesota Vikings</th>\n",
       "      <td>12</td>\n",
       "      <td>23-91-0</td>\n",
       "      <td>15-27-171-1-1</td>\n",
       "      <td>1-9</td>\n",
       "      <td>162</td>\n",
       "      <td>253</td>\n",
       "      <td>1-0</td>\n",
       "      <td>1</td>\n",
       "      <td>6-60</td>\n",
       "      <td>5-13</td>\n",
       "      <td>0-0</td>\n",
       "      <td>26:17</td>\n",
       "    </tr>\n",
       "    <tr>\n",
       "      <th>New Orleans Saints</th>\n",
       "      <td>18</td>\n",
       "      <td>25-79-1</td>\n",
       "      <td>27-36-237-1-0</td>\n",
       "      <td>1-8</td>\n",
       "      <td>229</td>\n",
       "      <td>308</td>\n",
       "      <td>1-0</td>\n",
       "      <td>0</td>\n",
       "      <td>3-20</td>\n",
       "      <td>3-11</td>\n",
       "      <td>0-0</td>\n",
       "      <td>33:43</td>\n",
       "    </tr>\n",
       "  </tbody>\n",
       "</table>\n",
       "</div>"
      ],
      "text/plain": [
       "                   First Downs Rush-Yds-TDs Cmp-Att-Yd-TD-INT Sacked-Yards  \\\n",
       "Minnesota Vikings           12      23-91-0     15-27-171-1-1          1-9   \n",
       "New Orleans Saints          18      25-79-1     27-36-237-1-0          1-8   \n",
       "\n",
       "                   Net Pass Yards Total Yards Fumbles-Lost Turnovers  \\\n",
       "Minnesota Vikings             162         253          1-0         1   \n",
       "New Orleans Saints            229         308          1-0         0   \n",
       "\n",
       "                   Penalties-Yards Third Down Conv. Fourth Down Conv.  \\\n",
       "Minnesota Vikings             6-60             5-13               0-0   \n",
       "New Orleans Saints            3-20             3-11               0-0   \n",
       "\n",
       "                   Time of Possession  \n",
       "Minnesota Vikings               26:17  \n",
       "New Orleans Saints              33:43  "
      ]
     },
     "metadata": {},
     "execution_count": 67
    }
   ],
   "metadata": {}
  },
  {
   "cell_type": "code",
   "execution_count": 68,
   "source": [
    "stats.columns = stats.iloc[0]"
   ],
   "outputs": [],
   "metadata": {}
  },
  {
   "cell_type": "code",
   "execution_count": 69,
   "source": [
    "\n",
    "pd.concat([all_games.iloc[0],stats_t.iloc[0]])"
   ],
   "outputs": [
    {
     "output_type": "execute_result",
     "data": {
      "text/plain": [
       "date                          2010-09-09\n",
       "year                                2010\n",
       "week                                   1\n",
       "team                  New Orleans Saints\n",
       "team_score                            14\n",
       "opponent               Minnesota Vikings\n",
       "opponent_score                         9\n",
       "win                                    1\n",
       "home                                   1\n",
       "temperature                          NaN\n",
       "wind                                 NaN\n",
       "humidity                             NaN\n",
       "roof                                dome\n",
       "surface                        sportturf\n",
       "First Downs                           12\n",
       "Rush-Yds-TDs                     23-91-0\n",
       "Cmp-Att-Yd-TD-INT          15-27-171-1-1\n",
       "Sacked-Yards                         1-9\n",
       "Net Pass Yards                       162\n",
       "Total Yards                          253\n",
       "Fumbles-Lost                         1-0\n",
       "Turnovers                              1\n",
       "Penalties-Yards                     6-60\n",
       "Third Down Conv.                    5-13\n",
       "Fourth Down Conv.                    0-0\n",
       "Time of Possession                 26:17\n",
       "dtype: object"
      ]
     },
     "metadata": {},
     "execution_count": 69
    }
   ],
   "metadata": {}
  },
  {
   "cell_type": "code",
   "execution_count": null,
   "source": [],
   "outputs": [],
   "metadata": {}
  }
 ],
 "metadata": {
  "orig_nbformat": 4,
  "language_info": {
   "name": "python",
   "version": "3.8.8",
   "mimetype": "text/x-python",
   "codemirror_mode": {
    "name": "ipython",
    "version": 3
   },
   "pygments_lexer": "ipython3",
   "nbconvert_exporter": "python",
   "file_extension": ".py"
  },
  "kernelspec": {
   "name": "python3",
   "display_name": "Python 3.8.8 64-bit ('base': conda)"
  },
  "interpreter": {
   "hash": "35d4093377125a965be9a5833f25b3dc0e8233d057ec383416b82901922cf930"
  }
 },
 "nbformat": 4,
 "nbformat_minor": 2
}