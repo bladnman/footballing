{
 "cells": [
  {
   "cell_type": "code",
   "execution_count": 18,
   "source": [
    "# CONFIG\n",
    "DATA_PATH_INFO = '../data/game_info'\n",
    "DATA_PATH_STATS = '../data/game_stats'\n",
    "FILE_PATH_BOX_SCORES_URLS = '../data/box_scores/box_score_urls.csv'\n",
    "_is_dev_mode = False"
   ],
   "outputs": [],
   "metadata": {}
  },
  {
   "cell_type": "code",
   "execution_count": 75,
   "source": [
    "import requests\n",
    "import sys\n",
    "import pandas as pd\n",
    "\n",
    "\n",
    "def get_body_for_url(url):\n",
    "    try:\n",
    "        r = requests.get(url)\n",
    "        body = r.text\n",
    "        return body\n",
    "    except:\n",
    "        print('An exception occurred', url, sys.exc_info()[0])\n",
    "    return None\n",
    "\n",
    "\n",
    "def get_stripped_body(url):\n",
    "    body = get_body_for_url(url)\n",
    "    if body is not None:\n",
    "        body = body.replace('<!--', '')\n",
    "        body = body.replace('-->', '')\n",
    "        return body\n",
    "    return None\n",
    "\n",
    "\n",
    "def save_string_to_file(file_path, str):\n",
    "    text_file = open(file_path, \"w\")\n",
    "    text_file.write(str)\n",
    "    text_file.close()\n",
    "\n",
    "def get_game_info_df(tables_df):\n",
    "    df = None\n",
    "    for _df in tables_df:\n",
    "        text = _df.iat[0, 0]\n",
    "        if type(text) is str:\n",
    "            if text == \"Game Info\":\n",
    "                df = _df.drop(0)\n",
    "                df.columns = ['stat', 'value']\n",
    "\n",
    "    return df\n",
    "\n",
    "def get_game_stats_df(tables_df):\n",
    "    df = None\n",
    "    for _df in tables_df:\n",
    "        text = _df.iat[0, 0]\n",
    "        if type(text) is str:\n",
    "            if text == \"First Downs\":\n",
    "                df = _df\n",
    "                df.columns = ['stat', 'away', 'home']\n",
    "\n",
    "    return df\n",
    "\n",
    "\n",
    "def work_file(url):\n",
    "    url_parts = url.split('/')\n",
    "    file_name = url_parts[-1].split('.')[0]\n",
    "    body = get_stripped_body(url)\n",
    "    df = pd.read_html(body)\n",
    "\n",
    "    game_info_df = get_game_info_df(df)\n",
    "    game_stats_df = get_game_stats_df(df)\n",
    "    if game_info_df is not None:\n",
    "        game_info_df.to_csv(f'{DATA_PATH_INFO}/game_info_{file_name}.csv',index=False)\n",
    "    if game_stats_df is not None:\n",
    "        game_stats_df.to_csv(f'{DATA_PATH_STATS}/game_stats_{file_name}.csv', index=False)\n"
   ],
   "outputs": [],
   "metadata": {}
  },
  {
   "cell_type": "code",
   "execution_count": 77,
   "source": [
    "urls_df = pd.read_csv(FILE_PATH_BOX_SCORES_URLS)"
   ],
   "outputs": [],
   "metadata": {}
  },
  {
   "cell_type": "code",
   "execution_count": 78,
   "source": [
    "df_2010 = urls_df[urls_df['url'].str.contains('/2010')]\n",
    "df_2011 = urls_df[urls_df['url'].str.contains('/2011')]\n",
    "df_2012 = urls_df[urls_df['url'].str.contains('/2012')]\n",
    "df_2013 = urls_df[urls_df['url'].str.contains('/2013')]\n",
    "df_2014 = urls_df[urls_df['url'].str.contains('/2014')]\n",
    "df_2015 = urls_df[urls_df['url'].str.contains('/2015')]\n",
    "df_2016 = urls_df[urls_df['url'].str.contains('/2016')]\n",
    "df_2017 = urls_df[urls_df['url'].str.contains('/2017')]\n",
    "df_2018 = urls_df[urls_df['url'].str.contains('/2018')]\n",
    "df_2019 = urls_df[urls_df['url'].str.contains('/2019')]\n",
    "df_2020 = urls_df[urls_df['url'].str.contains('/2020')]"
   ],
   "outputs": [],
   "metadata": {}
  },
  {
   "cell_type": "code",
   "execution_count": 57,
   "source": [
    "for url in df_2010['url']:\n",
    "  work_file(url)"
   ],
   "outputs": [],
   "metadata": {}
  },
  {
   "cell_type": "code",
   "execution_count": 58,
   "source": [
    "for url in df_2011['url']: \n",
    "  work_file(url)"
   ],
   "outputs": [],
   "metadata": {}
  },
  {
   "cell_type": "code",
   "execution_count": 59,
   "source": [
    "for url in df_2012['url']:\n",
    "    work_file(url)\n"
   ],
   "outputs": [],
   "metadata": {}
  },
  {
   "cell_type": "code",
   "execution_count": 60,
   "source": [
    "for url in df_2013['url']:\n",
    "    work_file(url)\n"
   ],
   "outputs": [],
   "metadata": {}
  },
  {
   "cell_type": "code",
   "execution_count": 61,
   "source": [
    "for url in df_2014['url']:\n",
    "    work_file(url)\n"
   ],
   "outputs": [],
   "metadata": {}
  },
  {
   "cell_type": "code",
   "execution_count": 62,
   "source": [
    "for url in df_2015['url']:\n",
    "    work_file(url)\n"
   ],
   "outputs": [],
   "metadata": {}
  },
  {
   "cell_type": "code",
   "execution_count": 63,
   "source": [
    "for url in df_2016['url']:\n",
    "    work_file(url)\n"
   ],
   "outputs": [],
   "metadata": {}
  },
  {
   "cell_type": "code",
   "execution_count": 79,
   "source": [
    "for url in df_2017['url']:\n",
    "    work_file(url)\n"
   ],
   "outputs": [],
   "metadata": {}
  },
  {
   "cell_type": "code",
   "execution_count": 80,
   "source": [
    "for url in df_2018['url']:\n",
    "    work_file(url)\n"
   ],
   "outputs": [],
   "metadata": {}
  },
  {
   "cell_type": "code",
   "execution_count": 81,
   "source": [
    "for url in df_2019['url']:\n",
    "    work_file(url)\n"
   ],
   "outputs": [],
   "metadata": {}
  },
  {
   "cell_type": "code",
   "execution_count": 82,
   "source": [
    "for url in df_2020['url']:\n",
    "    work_file(url)\n"
   ],
   "outputs": [],
   "metadata": {}
  },
  {
   "cell_type": "code",
   "execution_count": null,
   "source": [],
   "outputs": [],
   "metadata": {}
  }
 ],
 "metadata": {
  "orig_nbformat": 4,
  "language_info": {
   "name": "python",
   "version": "3.8.8",
   "mimetype": "text/x-python",
   "codemirror_mode": {
    "name": "ipython",
    "version": 3
   },
   "pygments_lexer": "ipython3",
   "nbconvert_exporter": "python",
   "file_extension": ".py"
  },
  "kernelspec": {
   "name": "python3",
   "display_name": "Python 3.8.8 64-bit ('base': conda)"
  },
  "interpreter": {
   "hash": "35d4093377125a965be9a5833f25b3dc0e8233d057ec383416b82901922cf930"
  }
 },
 "nbformat": 4,
 "nbformat_minor": 2
}