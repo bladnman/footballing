{
 "cells": [
  {
   "cell_type": "code",
   "execution_count": 1,
   "metadata": {},
   "outputs": [],
   "source": [
    "import sys\n",
    "\n",
    "sys.path.insert(1, '..')\n",
    "import utils.game_utils as gu\n",
    "import utils.fetch_info_and_stats as fetch_data\n",
    "\n",
    "import pandas as pd"
   ]
  },
  {
   "cell_type": "code",
   "execution_count": 7,
   "metadata": {},
   "outputs": [
    {
     "name": "stdout",
     "output_type": "stream",
     "text": [
      "Done.\n"
     ]
    }
   ],
   "source": [
    "df = pd.read_csv('../../data/games/all_games.csv')\n",
    "# df = pd.read_csv('../../data/games/games_2021.csv')\n",
    "games_with_data = []\n",
    "\n",
    "try:\n",
    "    for i in range(0, len(df.index)):\n",
    "        game_df = df.iloc[i]\n",
    "\n",
    "        ## ADD INFO\n",
    "        info_df = fetch_data.get_info_df_for_game(game_df)\n",
    "        game_df = gu.get_game_with_info(game_df, info_df)\n",
    "\n",
    "        ## ADD STATS\n",
    "        try:\n",
    "            stats_df = fetch_data.get_stat_df_for_game(game_df)\n",
    "            game_df = gu.get_game_with_stats(game_df, stats_df)\n",
    "        except Exception as e:\n",
    "            filename = gu.get_game_filename(game_df)\n",
    "            print('STATS FILE ERROR')\n",
    "            print(filename)\n",
    "            print(stats_df)\n",
    "            raise Exception(\"STATS ERROR. CANCELING\")\n",
    "\n",
    "        games_with_data.append(game_df)\n",
    "\n",
    "\n",
    "    games_with_data_df = pd.DataFrame(games_with_data)\n",
    "    games_with_data_df.to_csv('../../data/games/all_games_with_data.csv',\n",
    "                               index=False)\n",
    "    print('Done.')\n",
    "except Exception as e:\n",
    "    print(e)\n",
    "    print('Failed')\n"
   ]
  },
  {
   "cell_type": "code",
   "execution_count": null,
   "metadata": {},
   "outputs": [],
   "source": []
  }
 ],
 "metadata": {
  "interpreter": {
   "hash": "dca0ade3e726a953b501b15e8e990130d2b7799f14cfd9f4271676035ebe5511"
  },
  "kernelspec": {
   "display_name": "Python 3.8.8 64-bit ('base': conda)",
   "name": "python3"
  },
  "language_info": {
   "codemirror_mode": {
    "name": "ipython",
    "version": 3
   },
   "file_extension": ".py",
   "mimetype": "text/x-python",
   "name": "python",
   "nbconvert_exporter": "python",
   "pygments_lexer": "ipython3",
   "version": "3.8.8"
  },
  "orig_nbformat": 4
 },
 "nbformat": 4,
 "nbformat_minor": 2
}
