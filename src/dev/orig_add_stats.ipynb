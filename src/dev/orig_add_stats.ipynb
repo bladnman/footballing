{
 "cells": [
  {
   "cell_type": "code",
   "execution_count": 1,
   "metadata": {},
   "outputs": [],
   "source": [
    "import sys\n",
    "\n",
    "sys.path.insert(1, '..')\n",
    "import utils.game_utils as gu\n",
    "import utils.fetch_info_and_stats as fetch_data\n",
    "\n",
    "import pandas as pd"
   ]
  },
  {
   "cell_type": "code",
   "execution_count": 27,
   "metadata": {},
   "outputs": [],
   "source": [
    "df = pd.read_csv('../../data/games/all_games_with_info.csv')\n",
    "\n",
    "games_with_stats = []\n",
    "for i in range(0, len(df.index)):\n",
    "    game_df = df.iloc[i]\n",
    "    stats_df = fetch_data.get_stat_df_for_game(game_df)\n",
    "    stats_df.columns = ['away', 'home']\n",
    "    games_with_stats.append(gu.get_game_with_stats(game_df, stats_df))\n",
    "\n",
    "games_with_stats_df = pd.DataFrame(games_with_stats)\n",
    "games_with_stats_df.to_csv('../../data/games/all_games_with_stats.csv',\n",
    "                          index=False)\n"
   ]
  },
  {
   "cell_type": "code",
   "execution_count": null,
   "metadata": {},
   "outputs": [],
   "source": []
  }
 ],
 "metadata": {
  "interpreter": {
   "hash": "35d4093377125a965be9a5833f25b3dc0e8233d057ec383416b82901922cf930"
  },
  "kernelspec": {
   "display_name": "Python 3.8.8 64-bit ('base': conda)",
   "name": "python3"
  },
  "language_info": {
   "codemirror_mode": {
    "name": "ipython",
    "version": 3
   },
   "file_extension": ".py",
   "mimetype": "text/x-python",
   "name": "python",
   "nbconvert_exporter": "python",
   "pygments_lexer": "ipython3",
   "version": "3.8.8"
  },
  "orig_nbformat": 4
 },
 "nbformat": 4,
 "nbformat_minor": 2
}
