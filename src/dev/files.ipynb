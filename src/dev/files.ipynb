{
 "cells": [
  {
   "cell_type": "code",
   "execution_count": 2,
   "metadata": {},
   "outputs": [],
   "source": [
    "import pandas as pd\n",
    "import numpy as np\n",
    "import glob\n",
    "data_path='../../data'"
   ]
  },
  {
   "cell_type": "code",
   "execution_count": 3,
   "metadata": {},
   "outputs": [
    {
     "data": {
      "text/plain": [
       "['../../data/games/games_2011.csv',\n",
       " '../../data/games/games_2010.csv',\n",
       " '../../data/games/games_2012.csv',\n",
       " '../../data/games/games_2013.csv',\n",
       " '../../data/games/games_2017.csv',\n",
       " '../../data/games/games_2016.csv',\n",
       " '../../data/games/games_2014.csv',\n",
       " '../../data/games/games_2015.csv',\n",
       " '../../data/games/games_2018.csv',\n",
       " '../../data/games/games_2019.csv',\n",
       " '../../data/games/games_2021.csv',\n",
       " '../../data/games/games_2020.csv']"
      ]
     },
     "execution_count": 3,
     "metadata": {},
     "output_type": "execute_result"
    }
   ],
   "source": [
    "file_paths = glob.glob(f\"{data_path}/games/games_*.csv\")\n",
    "file_paths"
   ]
  },
  {
   "cell_type": "code",
   "execution_count": 9,
   "metadata": {},
   "outputs": [
    {
     "data": {
      "text/plain": [
       "[2011, 2010, 2012, 2013, 2017, 2016, 2014, 2015, 2018, 2019, 2021, 2020]"
      ]
     },
     "execution_count": 9,
     "metadata": {},
     "output_type": "execute_result"
    }
   ],
   "source": [
    "import re\n",
    "years = []\n",
    "for file in file_paths:\n",
    "  years.append(int(re.search('games_(.*).csv', file).group(1)))\n",
    "years"
   ]
  },
  {
   "cell_type": "code",
   "execution_count": null,
   "metadata": {},
   "outputs": [],
   "source": []
  }
 ],
 "metadata": {
  "interpreter": {
   "hash": "40d3a090f54c6569ab1632332b64b2c03c39dcf918b08424e98f38b5ae0af88f"
  },
  "kernelspec": {
   "display_name": "Python 3.8.8 64-bit ('base': conda)",
   "language": "python",
   "name": "python3"
  },
  "language_info": {
   "codemirror_mode": {
    "name": "ipython",
    "version": 3
   },
   "file_extension": ".py",
   "mimetype": "text/x-python",
   "name": "python",
   "nbconvert_exporter": "python",
   "pygments_lexer": "ipython3",
   "version": "3.8.8"
  },
  "orig_nbformat": 4
 },
 "nbformat": 4,
 "nbformat_minor": 2
}
