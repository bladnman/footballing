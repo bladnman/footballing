{
 "cells": [
  {
   "cell_type": "markdown",
   "metadata": {},
   "source": [
    "# GAME DATA\n",
    "\n",
    "**ORPHANED**\n",
    "_This was used to build the data pulling. Now to be found in the main sourcer_\n",
    "\n",
    "Getting info and stats causes a lot of calls. I have built the fetcher to first see if we have the info and stat files and move on if so. This means this function can be run as often as you like -- it will only fetch things we don't have files for already.\n",
    "\n"
   ]
  },
  {
   "cell_type": "code",
   "execution_count": 1,
   "metadata": {},
   "outputs": [],
   "source": [
    "import sys\n",
    "\n",
    "sys.path.insert(0, '..')\n",
    "import utils.fetch_info_and_stats as fetch_data\n",
    "\n",
    "#* FETCHES any needed info or stat files\n",
    "fetch_data.fetch_all_info_and_stats()\n",
    "\n",
    "#* CREATES `all_games_with_data.csv` by appending all DATA with all_games.csv\n",
    "fetch_data.create_all_games_with_data()\n",
    "\n",
    "print(\"Done.\")"
   ]
  }
 ],
 "metadata": {
  "interpreter": {
   "hash": "dca0ade3e726a953b501b15e8e990130d2b7799f14cfd9f4271676035ebe5511"
  },
  "kernelspec": {
   "display_name": "Python 3.8.8 64-bit ('base': conda)",
   "name": "python3"
  },
  "language_info": {
   "codemirror_mode": {
    "name": "ipython",
    "version": 3
   },
   "file_extension": ".py",
   "mimetype": "text/x-python",
   "name": "python",
   "nbconvert_exporter": "python",
   "pygments_lexer": "ipython3",
   "version": "3.8.8"
  },
  "orig_nbformat": 4
 },
 "nbformat": 4,
 "nbformat_minor": 2
}
