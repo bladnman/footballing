{
 "cells": [
  {
   "cell_type": "markdown",
   "metadata": {},
   "source": [
    "# GAMES\n",
    "\n",
    "This will pull game data by year.\n",
    "\n",
    "Will Create:\n",
    "```\n",
    "games_2015.csv\n",
    "...\n",
    "all_games.csv\n",
    "```\n",
    "\n",
    "[The historical website](https://www.pro-football-reference.com)\n",
    "\n",
    "[Work spreadsheet for designs](https://docs.google.com/spreadsheets/d/1MkQ_J3gGDs_vkkERELOZojhwS9Wt-1eX4vFL7VP9TQE/edit#gid=0)"
   ]
  },
  {
   "cell_type": "code",
   "execution_count": null,
   "metadata": {},
   "outputs": [],
   "source": [
    "import sys\n",
    "import pandas as pd\n",
    "\n",
    "sys.path.insert(0, '..')\n",
    "import utils.game_utils as gu\n",
    "import utils.fetch_games as fetch_games\n",
    "import utils.add_aggregates as add_aggregates\n",
    "\n",
    "data_path = '../../data'"
   ]
  },
  {
   "cell_type": "code",
   "execution_count": null,
   "metadata": {},
   "outputs": [],
   "source": [
    "#*\n",
    "#* KEEPING THESE AS BY-YEAR CALLS\n",
    "#* to simplify pulling only 1 year\n",
    "#* when needed.\n",
    "#*\n",
    "\n",
    "fetch_games.fetch_and_write_year(2010, data_path)\n",
    "fetch_games.fetch_and_write_year(2011, data_path)\n",
    "fetch_games.fetch_and_write_year(2012, data_path)\n",
    "fetch_games.fetch_and_write_year(2013, data_path)\n",
    "fetch_games.fetch_and_write_year(2014, data_path)\n",
    "fetch_games.fetch_and_write_year(2015, data_path)\n",
    "fetch_games.fetch_and_write_year(2016, data_path)\n",
    "fetch_games.fetch_and_write_year(2017, data_path)\n",
    "fetch_games.fetch_and_write_year(2018, data_path)\n",
    "fetch_games.fetch_and_write_year(2019, data_path)\n",
    "fetch_games.fetch_and_write_year(2020, data_path)\n",
    "fetch_games.fetch_and_write_year(2021, data_path)\n",
    "\n",
    "## write final file\n",
    "fetch_games.build_all_game_files(data_path)\n",
    "\n",
    "print(\"Done. Now start the next step:\")"
   ]
  },
  {
   "cell_type": "markdown",
   "metadata": {},
   "source": [
    "# STATS AND INFO : DATA\n",
    "\n",
    "Getting info and stats causes a lot of calls. I have built the fetcher to first see if we have the info and stat files and move on if so. This means this function can be run as often as you like -- it will only fetch things we don't have files for already."
   ]
  },
  {
   "cell_type": "code",
   "execution_count": null,
   "metadata": {},
   "outputs": [],
   "source": [
    "import sys\n",
    "\n",
    "sys.path.insert(0, '..')\n",
    "import utils.fetch_info_and_stats as fetch_data\n",
    "\n",
    "#* FETCHES any needed info or stat files\n",
    "fetch_data.fetch_all_info_and_stats()\n",
    "\n",
    "#* CREATES `all_games_with_data.csv` by appending all DATA with all_games.csv\n",
    "fetch_data.create_all_games_with_data()\n",
    "\n",
    "print(\"Done.\")"
   ]
  },
  {
   "cell_type": "markdown",
   "metadata": {},
   "source": [
    "# ADD AGGREGATES\n",
    "\n",
    "Now that we have all the static data in playce, we want to add our own aggregated values. This will give us week-by-week information about the data at the time."
   ]
  },
  {
   "cell_type": "code",
   "execution_count": null,
   "metadata": {},
   "outputs": [],
   "source": [
    "import sys\n",
    "import pandas as pd\n",
    "\n",
    "sys.path.insert(0, '..')\n",
    "import utils.game_utils as gu\n",
    "import utils.fetch_games as fetch_games\n",
    "import utils.add_aggregates as add_aggregates\n",
    "\n",
    "data_path = '../../data'\n",
    "\n",
    "# df = add_aggregates.create_all_games_with_data_and_agg(data_path, 2018)\n",
    "df = add_aggregates.create_all_games_with_data_and_agg()\n",
    "print('Done.')\n"
   ]
  },
  {
   "cell_type": "code",
   "execution_count": 1,
   "metadata": {},
   "outputs": [
    {
     "name": "stdout",
     "output_type": "stream",
     "text": [
      "Done.\n"
     ]
    }
   ],
   "source": [
    "import sys\n",
    "import pandas as pd\n",
    "\n",
    "sys.path.insert(0, '..')\n",
    "import utils.game_utils as gu\n",
    "import utils.fetch_games as fetch_games\n",
    "import utils.add_aggregates as add_aggregates\n",
    "\n",
    "data_path = '../../data'\n",
    "\n",
    "# df = add_aggregates.create_all_games_with_data_and_agg(data_path, 2018)\n",
    "df = add_aggregates.create_year_file(2020)\n",
    "print('Done.')\n"
   ]
  },
  {
   "cell_type": "code",
   "execution_count": null,
   "metadata": {},
   "outputs": [],
   "source": [
    "import utils.add_aggregates as add_aggregates\n",
    "\n",
    "data_path = '../../data'\n",
    "all_games_df = pd.read_csv(f'{data_path}/games/all_games_with_data.csv')\n",
    "work_df = add_aggregates.get_year_df(2013, all_games_df)\n",
    "\n",
    "work_df.iloc[0]\n"
   ]
  },
  {
   "cell_type": "code",
   "execution_count": null,
   "metadata": {},
   "outputs": [],
   "source": [
    "work_df.index"
   ]
  },
  {
   "cell_type": "code",
   "execution_count": null,
   "metadata": {},
   "outputs": [],
   "source": [
    "work_df.reset_index()"
   ]
  },
  {
   "cell_type": "code",
   "execution_count": null,
   "metadata": {},
   "outputs": [],
   "source": []
  }
 ],
 "metadata": {
  "interpreter": {
   "hash": "40d3a090f54c6569ab1632332b64b2c03c39dcf918b08424e98f38b5ae0af88f"
  },
  "kernelspec": {
   "display_name": "Python 3.8.8 64-bit ('base': conda)",
   "language": "python",
   "name": "python3"
  },
  "language_info": {
   "codemirror_mode": {
    "name": "ipython",
    "version": 3
   },
   "file_extension": ".py",
   "mimetype": "text/x-python",
   "name": "python",
   "nbconvert_exporter": "python",
   "pygments_lexer": "ipython3",
   "version": "3.8.8"
  },
  "orig_nbformat": 4
 },
 "nbformat": 4,
 "nbformat_minor": 2
}
