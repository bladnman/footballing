{
 "cells": [
  {
   "cell_type": "markdown",
   "metadata": {},
   "source": [
    "# GAMES\n",
    "\n",
    "This will pull game data by year.\n",
    "\n",
    "Will Create:\n",
    "```\n",
    "games_2015.csv\n",
    "...\n",
    "all_games.csv\n",
    "```\n",
    "\n",
    "[The historical website](https://www.pro-football-reference.com)\n",
    "\n",
    "[Work spreadsheet for designs](https://docs.google.com/spreadsheets/d/1MkQ_J3gGDs_vkkERELOZojhwS9Wt-1eX4vFL7VP9TQE/edit#gid=0)"
   ]
  },
  {
   "cell_type": "code",
   "execution_count": null,
   "metadata": {},
   "outputs": [],
   "source": [
    "import sys\n",
    "import pandas as pd\n",
    "\n",
    "sys.path.insert(0, '..')\n",
    "import utils.game_utils as gu\n",
    "import utils.fetch_games as fetch_games\n",
    "import utils.add_aggregates as add_aggregates\n",
    "\n",
    "data_path = '../../data'"
   ]
  },
  {
   "cell_type": "code",
   "execution_count": null,
   "metadata": {},
   "outputs": [],
   "source": [
    "import sys\n",
    "import pandas as pd\n",
    "import numpy as np\n",
    "\n",
    "sys.path.insert(0, '..')\n",
    "import utils.game_utils as gu\n",
    "import utils.fetch_games as fetch_games\n",
    "import utils.add_aggregates as add_aggregates\n",
    "\n",
    "data_path = '../../data'\n",
    "\n",
    "years = np.arange(2010, 2022) # never reaches last number here\n",
    "years = [2021] # comment me out to run all years\n",
    "\n",
    "fetch_games.fetch_and_write_years(years, data_path)\n"
   ]
  },
  {
   "cell_type": "markdown",
   "metadata": {},
   "source": [
    "# STATS AND INFO : DATA\n",
    "\n",
    "Getting info and stats causes a lot of calls. I have built the fetcher to first see if we have the info and stat files and move on if so. This means this function can be run as often as you like -- it will only fetch things we don't have files for already."
   ]
  },
  {
   "cell_type": "code",
   "execution_count": null,
   "metadata": {},
   "outputs": [],
   "source": [
    "import sys\n",
    "\n",
    "sys.path.insert(0, '..')\n",
    "import utils.fetch_info_and_stats as fetch_data\n",
    "\n",
    "fetch_data.fetch_all_info_and_stats()\n"
   ]
  },
  {
   "cell_type": "markdown",
   "metadata": {},
   "source": [
    "# ADD AGGREGATES\n",
    "\n",
    "Now that we have all the static data in playce, we want to add our own aggregated values. This will give us week-by-week information about the data at the time."
   ]
  },
  {
   "cell_type": "code",
   "execution_count": null,
   "metadata": {},
   "outputs": [],
   "source": [
    "import sys\n",
    "import pandas as pd\n",
    "\n",
    "sys.path.insert(0, '..')\n",
    "import utils.game_utils as gu\n",
    "import utils.fetch_games as fetch_games\n",
    "import utils.add_aggregates as add_aggregates\n",
    "\n",
    "data_path = '../../data'\n",
    "\n",
    "df = pd.read_csv(f'{data_path}/games/all_games_with_data.csv')\n",
    "\n",
    "years = df['year'].unique()\n",
    "years = 2021  # comment me out to run all years\n",
    "\n",
    "add_aggregates.create_year_files(years, data_path)\n",
    "  \n",
    "print('Done.')\n"
   ]
  },
  {
   "cell_type": "code",
   "execution_count": null,
   "metadata": {},
   "outputs": [],
   "source": []
  }
 ],
 "metadata": {
  "interpreter": {
   "hash": "40d3a090f54c6569ab1632332b64b2c03c39dcf918b08424e98f38b5ae0af88f"
  },
  "kernelspec": {
   "display_name": "Python 3.8.8 64-bit ('base': conda)",
   "language": "python",
   "name": "python3"
  },
  "language_info": {
   "codemirror_mode": {
    "name": "ipython",
    "version": 3
   },
   "file_extension": ".py",
   "mimetype": "text/x-python",
   "name": "python",
   "nbconvert_exporter": "python",
   "pygments_lexer": "ipython3",
   "version": "3.8.8"
  },
  "orig_nbformat": 4
 },
 "nbformat": 4,
 "nbformat_minor": 2
}
